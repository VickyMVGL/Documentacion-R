{
 "cells": [
  {
   "cell_type": "markdown",
   "metadata": {},
   "source": [
    "## Importando Datos\n",
    "\n",
    "La primera etapa en cualquier análisis de datos es importar los datos a R. R puede leer una amplia variedad de formatos de archivo, incluyendo CSV, Excel, bases de datos y más."
   ]
  },
  {
   "cell_type": "code",
   "execution_count": null,
   "metadata": {
    "vscode": {
     "languageId": "r"
    }
   },
   "outputs": [],
   "source": [
    "\"\"\"Importando datos desde un archivo CSV\"\"\"\n",
    "# Cargar el paquete necesario\n",
    "library(readr)\n",
    "\n",
    "# Importar los datos\n",
    "datos <- read_csv(\"mis_datos.csv\")\n",
    "\n",
    "\"\"\"Importando datos desde un archivo Excel\"\"\"\n",
    "\n",
    "# Cargar el paquete necesario\n",
    "library(readxl)\n",
    "\n",
    "# Importar los datos\n",
    "datos <- read_excel(\"mis_datos.xlsx\", sheet = \"Hoja1\")"
   ]
  },
  {
   "cell_type": "markdown",
   "metadata": {},
   "source": [
    "## Explorando los Datos\n",
    "\n",
    "Una vez que los datos están en R, es importante explorarlos para entender su estructura y contenido."
   ]
  },
  {
   "cell_type": "code",
   "execution_count": null,
   "metadata": {
    "vscode": {
     "languageId": "r"
    }
   },
   "outputs": [],
   "source": [
    "# Ver las primeras filas\n",
    "head(datos)\n",
    "\n",
    "# Ver las últimas filas\n",
    "tail(datos)\n",
    "\n",
    "# Obtener un resumen estadístico\n",
    "summary(datos)\n",
    "\n",
    "# Ver la estructura del data frame\n",
    "str(datos)"
   ]
  },
  {
   "cell_type": "markdown",
   "metadata": {},
   "source": [
    "# Manipular los datos"
   ]
  },
  {
   "cell_type": "markdown",
   "metadata": {},
   "source": [
    "## Seleccionando columnas:"
   ]
  },
  {
   "cell_type": "code",
   "execution_count": null,
   "metadata": {
    "vscode": {
     "languageId": "r"
    }
   },
   "outputs": [],
   "source": [
    "# Seleccionar la columna \"edad\"\n",
    "edad <- datos$edad\n",
    "\n",
    "# Seleccionar múltiples columnas\n",
    "datos_seleccionados <- datos[, c(\"nombre\", \"edad\")]"
   ]
  },
  {
   "cell_type": "markdown",
   "metadata": {},
   "source": [
    "## Filtrando datos:"
   ]
  },
  {
   "cell_type": "code",
   "execution_count": null,
   "metadata": {
    "vscode": {
     "languageId": "r"
    }
   },
   "outputs": [],
   "source": [
    "# Filtrar los datos para obtener solo las personas mayores de 30 años\n",
    "personas_mayores <- datos[datos$edad > 30, ]"
   ]
  },
  {
   "cell_type": "markdown",
   "metadata": {},
   "source": [
    "## Ordenando datos:"
   ]
  },
  {
   "cell_type": "code",
   "execution_count": null,
   "metadata": {
    "vscode": {
     "languageId": "r"
    }
   },
   "outputs": [],
   "source": [
    "# Ordenar los datos por edad de forma ascendente\n",
    "datos_ordenados <- datos[order(datos$edad), ]"
   ]
  },
  {
   "cell_type": "markdown",
   "metadata": {},
   "source": [
    "## Agregando y transformando variables:"
   ]
  },
  {
   "cell_type": "code",
   "execution_count": null,
   "metadata": {
    "vscode": {
     "languageId": "r"
    }
   },
   "outputs": [],
   "source": [
    "# Crear una nueva variable\n",
    "datos$nueva_variable <- datos$edad * 2\n",
    "\n",
    "# Agrupar y calcular el promedio por grupo\n",
    "library(dplyr)\n",
    "datos %>%\n",
    "  group_by(ciudad) %>%\n",
    "  summarise(edad_promedio = mean(edad))"
   ]
  },
  {
   "cell_type": "markdown",
   "metadata": {},
   "source": [
    "# Mas Ejemplos"
   ]
  },
  {
   "cell_type": "code",
   "execution_count": null,
   "metadata": {
    "vscode": {
     "languageId": "r"
    }
   },
   "outputs": [],
   "source": [
    "\"\"\"Limpiando datos\"\"\"\n",
    "\n",
    "# Eliminar filas con valores faltantes\n",
    "datos_limpios <- na.omit(datos)\n",
    "\n",
    "# Reemplazar valores faltantes con la media\n",
    "library(tidyr)\n",
    "datos_completos <- replace_na(datos, list(edad = mean(datos$edad, na.rm = TRUE)))\n",
    "\n",
    "\"\"\"Creando nuevas variables a partir de fechas\"\"\"\n",
    "\n",
    "# Convertir una columna de fechas a un formato de fecha\n",
    "datos$fecha <- as.Date(datos$fecha, format = \"%Y-%m-%d\")\n",
    "\n",
    "# Extraer el año\n",
    "datos$anio <- year(datos$fecha)"
   ]
  }
 ],
 "metadata": {
  "language_info": {
   "name": "python"
  }
 },
 "nbformat": 4,
 "nbformat_minor": 2
}
