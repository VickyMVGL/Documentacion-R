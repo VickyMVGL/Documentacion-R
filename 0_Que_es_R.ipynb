{
 "cells": [
  {
   "cell_type": "markdown",
   "metadata": {},
   "source": [
    "# Que es R?\n",
    "\n",
    "R es un lenguaje de programación y entorno de software libre y de código abierto diseñado específicamente para el análisis estadístico y la visualización de datos. Se ha convertido en una herramienta esencial para investigadores, científicos de datos y analistas en diversas disciplinas debido a su amplia gama de funcionalidades y su gran comunidad de usuarios."
   ]
  },
  {
   "cell_type": "markdown",
   "metadata": {},
   "source": [
    "# Cuando Utilizar R?\n",
    "\n",
    "- Análisis exploratorio de datos: Descubrir patrones, tendencias y relaciones en los datos.\n",
    "\n",
    "- Modelado estadístico: Ajustar modelos lineales, no lineales, generalizados y otros modelos más complejos.\n",
    "\n",
    "- Visualización de datos: Crear gráficos informativos y personalizados para comunicar los resultados.\n",
    "\n",
    "- Desarrollo de aplicaciones estadísticas: Crear aplicaciones personalizadas para análisis de datos específicos.\n",
    "\n",
    "- Big data: R puede manejar grandes conjuntos de datos con la ayuda de paquetes como data.table y dplyr.\n",
    "\n",
    "- Aprendizaje automático: R ofrece una variedad de algoritmos de aprendizaje automático para tareas como clasificación, regresión y clustering."
   ]
  }
 ],
 "metadata": {
  "language_info": {
   "name": "python"
  }
 },
 "nbformat": 4,
 "nbformat_minor": 2
}
