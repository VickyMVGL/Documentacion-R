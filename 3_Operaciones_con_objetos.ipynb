{
 "cells": [
  {
   "cell_type": "markdown",
   "metadata": {},
   "source": [
    "# Operaciones con objetos\n",
    "\n",
    "Puedes realizar una amplia variedad de operaciones con objetos en R, como:"
   ]
  },
  {
   "cell_type": "markdown",
   "metadata": {},
   "source": [
    "## Aritmeticas\n",
    "Sumar, restar, multiplicar, dividir, etc."
   ]
  },
  {
   "cell_type": "code",
   "execution_count": null,
   "metadata": {
    "vscode": {
     "languageId": "r"
    }
   },
   "outputs": [],
   "source": [
    "\"\"\"Operaciones Aritmeticas\"\"\"\n",
    "\n",
    "# Crear dos vectores numéricos\n",
    "vector1 <- c(1, 2, 3)\n",
    "vector2 <- c(4, 5, 6)\n",
    "\n",
    "# Suma\n",
    "suma <- vector1 + vector2\n",
    "\n",
    "# Resta\n",
    "resta <- vector1 - vector2\n",
    "\n",
    "# Multiplicación\n",
    "multiplicacion <- vector1 * vector2\n",
    "\n",
    "# División\n",
    "division <- vector1 / vector2\n"
   ]
  },
  {
   "cell_type": "markdown",
   "metadata": {},
   "source": [
    "## Comparaciones\n",
    "\n",
    "Igualdad, desigualdad, mayor que, menor que."
   ]
  },
  {
   "cell_type": "code",
   "execution_count": null,
   "metadata": {
    "vscode": {
     "languageId": "r"
    }
   },
   "outputs": [],
   "source": [
    "\"\"\"Operaciones de Comparacion\"\"\"\n",
    "\n",
    "# Comparación\n",
    "igualdad <- vector1 == vector2\n",
    "mayor_que <- vector1 > 3"
   ]
  },
  {
   "cell_type": "markdown",
   "metadata": {},
   "source": [
    "## Lógicas\n",
    "\n",
    "AND, OR, NOT."
   ]
  },
  {
   "cell_type": "code",
   "execution_count": null,
   "metadata": {
    "vscode": {
     "languageId": "r"
    }
   },
   "outputs": [],
   "source": [
    "\"\"\"Operaciones Logicas\"\"\"\n",
    "\n",
    "# Operadores lógicos\n",
    "y_logico <- vector1 > 2 & vector2 < 5\n",
    "o_logico <- vector1 > 2 | vector2 < 5\n",
    "negacion <- !igualdad"
   ]
  },
  {
   "cell_type": "markdown",
   "metadata": {},
   "source": [
    "## Subsetting\n",
    "\n",
    "Extraer elementos específicos de un objeto."
   ]
  },
  {
   "cell_type": "code",
   "execution_count": null,
   "metadata": {
    "vscode": {
     "languageId": "r"
    }
   },
   "outputs": [],
   "source": [
    "\"\"\"Operaciones de Subsetting\"\"\"\n",
    "\n",
    "# Acceder al primer elemento de un vector\n",
    "primer_elemento <- vector1[1]\n",
    "\n",
    "# Extraer los dos primeros elementos de un data frame\n",
    "primeras_dos_filas <- df[1:2, ]\n",
    "\n",
    "# Seleccionar elementos que cumplan una condición\n",
    "elementos_mayores_a_2 <- vector1[vector1 > 2]"
   ]
  },
  {
   "cell_type": "markdown",
   "metadata": {},
   "source": [
    "## Combinación\n",
    "\n",
    "Unir objetos para crear nuevos objetos."
   ]
  },
  {
   "cell_type": "code",
   "execution_count": null,
   "metadata": {
    "vscode": {
     "languageId": "r"
    }
   },
   "outputs": [],
   "source": [
    "\"\"\"Operaciones de Combinacion\"\"\"\n",
    "\n",
    "# Concatenar vectores\n",
    "vector_combinado <- c(vector1, vector2)\n",
    "\n",
    "# Unir data frames por filas\n",
    "df_unido <- rbind(df, df)"
   ]
  }
 ],
 "metadata": {
  "language_info": {
   "name": "python"
  }
 },
 "nbformat": 4,
 "nbformat_minor": 2
}
