{
 "cells": [
  {
   "cell_type": "markdown",
   "metadata": {},
   "source": [
    "# Visualización de Datos\n",
    "\n",
    "La visualización de datos es la técnica utilizada para brindar información sobre los datos utilizando señales visuales como gráficos, tablas, mapas y muchos otros. Esto es útil ya que ayuda a comprender fácilmente y de forma intuitiva grandes cantidades de datos y, por lo tanto, a tomar mejores decisiones al respecto."
   ]
  },
  {
   "cell_type": "markdown",
   "metadata": {},
   "source": [
    "# Tipos de visualizaciones de datos"
   ]
  },
  {
   "cell_type": "markdown",
   "metadata": {},
   "source": [
    "# Bar Plot (Graficos de Barra)\n",
    "Hay dos tipos de gráficos de barras: horizontales y verticales, que representan puntos de datos como barras horizontales o verticales de ciertas longitudes proporcionales al valor del elemento de datos. Generalmente se utilizan para el trazado de variables continuas y categóricas. Al establecer el parámetro horiz en verdadero y falso, podemos obtener gráficos de barras horizontales y verticales respectivamente."
   ]
  },
  {
   "cell_type": "code",
   "execution_count": null,
   "metadata": {
    "vscode": {
     "languageId": "r"
    }
   },
   "outputs": [],
   "source": [
    "# Barra horizontal para la concentracion de ozono en el aire\n",
    "barplot(airquality$Ozone,\n",
    "        main = 'concentracion de ozono en el aire',\n",
    "        xlab = 'niveles de ozono', horiz = TRUE)"
   ]
  },
  {
   "cell_type": "code",
   "execution_count": null,
   "metadata": {
    "vscode": {
     "languageId": "r"
    }
   },
   "outputs": [],
   "source": [
    "# Barra vertical para la concentracion de ozono en el aire\n",
    "\n",
    "barplot(airquality$Ozone, main = 'concentracion de ozono en el aire', \n",
    "        xlab = 'niveles de ozono', col ='blue', horiz = FALSE)"
   ]
  },
  {
   "cell_type": "markdown",
   "metadata": {},
   "source": [
    "# Histograma\n",
    "\n",
    "Un histograma es como un gráfico de barras, ya que utiliza barras de diferente altura para representar la distribución de datos. Sin embargo, en un histograma los valores se agrupan en intervalos consecutivos llamados contenedores."
   ]
  },
  {
   "cell_type": "code",
   "execution_count": null,
   "metadata": {
    "vscode": {
     "languageId": "r"
    }
   },
   "outputs": [],
   "source": [
    "# Histograma para la temperatura maxima diaria\n",
    "data(airquality)\n",
    "\n",
    "hist(airquality$Temp, main =\"La Guardia Airport\\\n",
    "Maxima Temperatura(Diario)\",\n",
    "    xlab =\"Temperatura(Fahrenheit)\",\n",
    "    xlim = c(50, 125), col =\"yellow\",\n",
    "    freq = TRUE)\n"
   ]
  },
  {
   "cell_type": "markdown",
   "metadata": {},
   "source": [
    "# Box Plot (Diagrama de Caja)\n",
    "El resumen estadístico de los datos proporcionados se presenta gráficamente mediante un diagrama de caja. Un diagrama de caja muestra información como el punto de datos mínimo y máximo, el valor mediano, el primer y tercer cuartil y el rango intercuartil."
   ]
  },
  {
   "cell_type": "code",
   "execution_count": null,
   "metadata": {
    "vscode": {
     "languageId": "r"
    }
   },
   "outputs": [],
   "source": [
    "# Diagrama de caja para la velocidad promedio del viento\n",
    "data(airquality)\n",
    "\n",
    "boxplot(airquality$Wind, main = \"Velocidad promedio del viento\\\n",
    "en La Guardia Airport\",\n",
    "        xlab = \"Millas por hora\", ylab = \"Viento\",\n",
    "        col = \"orange\", border = \"brown\",\n",
    "        horizontal = TRUE, notch = TRUE)\n"
   ]
  },
  {
   "cell_type": "markdown",
   "metadata": {},
   "source": [
    "También se pueden generar varios diagramas de caja a la vez mediante el siguiente código:"
   ]
  },
  {
   "cell_type": "code",
   "execution_count": null,
   "metadata": {
    "vscode": {
     "languageId": "r"
    }
   },
   "outputs": [],
   "source": [
    "# Multiples diagramas de caja, cada uno representando\n",
    "# un parametro de calidad del aire\n",
    "boxplot(airquality[, 0:4],\n",
    "        main ='Diagramas de caja para parametros de calidad del aire')\n"
   ]
  },
  {
   "cell_type": "markdown",
   "metadata": {},
   "source": [
    "# Scatter Plot (Diagrama de dispersión)\n",
    "\n",
    "Un diagrama de dispersión se compone de muchos puntos en un plano cartesiano. Cada punto denota el valor tomado por dos parámetros y nos ayuda a identificar fácilmente la relación entre ellos."
   ]
  },
  {
   "cell_type": "code",
   "execution_count": null,
   "metadata": {
    "vscode": {
     "languageId": "r"
    }
   },
   "outputs": [],
   "source": [
    "# Diagrama de dispersión para la concentración de Ozono por mes\n",
    "data(airquality)\n",
    "\n",
    "plot(airquality$Ozone, airquality$Month,\n",
    "     main = \"Scatterplot Ejemplo\",\n",
    "    xlab = \"Concentración de Ozono en partes por billon\",\n",
    "    ylab = \" Mes de observación \", pch = 19)\n"
   ]
  },
  {
   "cell_type": "markdown",
   "metadata": {},
   "source": [
    "# Heat Map (Mapa de calor)\n",
    "\n",
    "El mapa de calor se define como una representación gráfica de datos que utiliza colores para visualizar el valor de la matriz. La función heatmap() se utiliza para trazar el mapa de calor."
   ]
  },
  {
   "cell_type": "code",
   "execution_count": null,
   "metadata": {
    "vscode": {
     "languageId": "r"
    }
   },
   "outputs": [],
   "source": [
    "# Crea data de ejemplo\n",
    "data <- matrix(rnorm(50, 0, 5), nrow = 5, ncol = 5)\n",
    "\n",
    "# Column names\n",
    "colnames(data) <- paste0(\"col\", 1:5)\n",
    "rownames(data) <- paste0(\"row\", 1:5)\n",
    "\n",
    "# Dibuja un mapa de calor\n",
    "heatmap(data)\n"
   ]
  },
  {
   "cell_type": "markdown",
   "metadata": {},
   "source": [
    "# Gráficos 3D en R \n",
    "\n",
    "Aquí usaremos la función preps(). Esta función se usa para crear superficies 3D en vista en perspectiva. Esta función dibujará gráficos en perspectiva de una superficie sobre el plano x–y."
   ]
  },
  {
   "cell_type": "code",
   "execution_count": null,
   "metadata": {
    "vscode": {
     "languageId": "r"
    }
   },
   "outputs": [],
   "source": [
    "cone <- function(x, y) {\n",
    "  sqrt(x ^ 2 + y ^ 2)\n",
    "}\n",
    "\n",
    "# prepara las variables.\n",
    "x <- y <- seq(-1, 1, length = 30)\n",
    "z <- outer(x, y, cone)\n",
    "\n",
    "# prepara la superficie 3D\n",
    "# Agregando Titulos y etiquetando los ejes\n",
    "persp(x, y, z,\n",
    "main = \"Perspectiva de un Cono\",\n",
    "zlab = \"Altura\",\n",
    "theta = 30, phi = 15,\n",
    "col = \"orange\", shade = 0.4)\n"
   ]
  },
  {
   "cell_type": "markdown",
   "metadata": {},
   "source": [
    "# Line Graphs (Graficos de Linea)\n",
    "\n",
    "Un gráfico de líneas es un gráfico que se utiliza para mostrar información en forma de una serie de puntos de datos. Utiliza puntos y líneas para representar el cambio a lo largo del tiempo. Los gráficos lineales se dibujan trazando diferentes puntos en sus coordenadas X e Y, luego uniéndolos a través de una línea de principio a fin. El gráfico representa diferentes valores, ya que puede moverse hacia arriba y hacia abajo según la variable adecuada."
   ]
  },
  {
   "cell_type": "code",
   "execution_count": null,
   "metadata": {
    "vscode": {
     "languageId": "r"
    }
   },
   "outputs": [],
   "source": [
    "# Crea los datos para el grafico\n",
    "v <- c(17, 25, 38, 13, 41)\n",
    "t <- c(22, 19, 36, 19, 23)\n",
    "m <- c(25, 14, 16, 34, 29)\n",
    "\n",
    "# Crea el grafico de barra\n",
    "plot(v, type = \"o\", col = \"red\",\n",
    "    xlab = \"Mes\", ylab = \"Articulo Escrito \",\n",
    "    main = \"Grafica de Articulos Escritos\")\n",
    "\n",
    "lines(t, type = \"o\", col = \"blue\")\n",
    "lines(m, type = \"o\", col = \"green\")\n"
   ]
  }
 ],
 "metadata": {
  "language_info": {
   "name": "python"
  }
 },
 "nbformat": 4,
 "nbformat_minor": 2
}
