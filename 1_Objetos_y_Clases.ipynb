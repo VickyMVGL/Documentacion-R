{
 "cells": [
  {
   "cell_type": "markdown",
   "metadata": {},
   "source": [
    "# ¿Qué es un objeto en R?\n",
    "\n",
    "En R, todo es un objeto. Desde un simple número hasta un complejo modelo estadístico, cada elemento con el que trabajas es considerado un objeto. Un objeto en R tiene:\n",
    "\n",
    "- Un nombre: Para identificarlo y referenciarlo.\n",
    "- Un tipo: Define la clase de datos que contiene (numérico, carácter, lógico, etc.).\n",
    "- Un valor: La información que almacena.\n",
    "- Atributos: Propiedades adicionales que describen el objeto."
   ]
  },
  {
   "cell_type": "markdown",
   "metadata": {},
   "source": [
    "## ¿Cómo funcionan los objetos en R?\n",
    "\n",
    "Los objetos en R funcionan como contenedores que almacenan información. Puedes realizar operaciones sobre estos objetos, como asignarles nuevos valores, combinarlos con otros objetos o aplicar funciones a ellos. R utiliza un sistema de asignación de valores a través del operador <- para crear nuevos objetos o modificar los existentes."
   ]
  },
  {
   "cell_type": "markdown",
   "metadata": {},
   "source": [
    "## ¿Cómo se crean los objetos en R?"
   ]
  },
  {
   "cell_type": "code",
   "execution_count": null,
   "metadata": {
    "vscode": {
     "languageId": "r"
    }
   },
   "outputs": [],
   "source": [
    "# Crear un objeto numérico\n",
    "mi_numero <- 42\n",
    "\n",
    "# Crear un objeto de texto (carácter)\n",
    "mi_texto <- \"Hola, mundo!\"\n",
    "\n",
    "# Crear un vector numérico\n",
    "mi_vector <- c(1, 2, 3, 4, 5)\n",
    "\n",
    "# Crear un data frame (tabla de datos)\n",
    "mi_dataframe <- data.frame(\n",
    "  columna1 = c(1, 2, 3),\n",
    "  columna2 = c(\"A\", \"B\", \"C\")\n",
    ")"
   ]
  },
  {
   "cell_type": "markdown",
   "metadata": {},
   "source": [
    "## Tipos de objetos comunes en R\n",
    "\n",
    "- Vectores: Secuencias de elementos del mismo tipo (numéricos, caracteres, lógicos).\n",
    "- Matrices: Arreglos bidimensionales de elementos del mismo tipo.\n",
    "- Data frames: Tablas de datos donde cada columna puede tener un tipo diferente.\n",
    "- Listas: Colecciones ordenadas de objetos de diferentes tipos.\n",
    "- Factores: Variables categóricas con niveles definidos.\n",
    "- Funciones: Bloques de código reutilizables que realizan tareas específicas."
   ]
  },
  {
   "cell_type": "code",
   "execution_count": null,
   "metadata": {
    "vscode": {
     "languageId": "r"
    }
   },
   "outputs": [],
   "source": [
    "\"\"\"Vectores\"\"\"\n",
    "\n",
    "# Vector numérico\n",
    "vector_numerico <- c(1, 2, 3, 4, 5)\n",
    "\n",
    "# Vector de caracteres\n",
    "vector_caracter <- c(\"rojo\", \"verde\", \"azul\")\n",
    "\n",
    "# Vector lógico\n",
    "vector_logico <- c(TRUE, FALSE, TRUE)\n",
    "\n",
    "\n",
    "\"\"\"Matrices\"\"\"\n",
    "\n",
    "# Matriz numérica\n",
    "matriz_numerica <- matrix(1:9, nrow = 3, ncol = 3)\n",
    "\n",
    "# Matriz de caracteres\n",
    "matriz_caracter <- matrix(c(\"a\", \"b\", \"c\", \"d\", \"e\", \"f\"), nrow = 2, ncol = 3)\n",
    "\n",
    "\"\"\"Data Frame\"\"\"\n",
    "\n",
    "\n",
    "df <- data.frame(\n",
    "  nombre = c(\"Ana\", \"Pedro\", \"Juan\"),\n",
    "  edad = c(25, 30, 28),\n",
    "  ciudad = c(\"Madrid\", \"Barcelona\", \"Valencia\")\n",
    ")\n",
    "\n",
    "\"\"\"Listas\"\"\"\n",
    "\n",
    "\n",
    "lista <- list(\n",
    "  vector_numerico,\n",
    "  matriz_caracter,\n",
    "  df\n",
    ")\n",
    "\n",
    "\"\"\"Factor\"\"\"\n",
    "\n",
    "factor_colores <- factor(c(\"rojo\", \"verde\", \"azul\", \"rojo\"))\n",
    "\n",
    "\"\"\"Funcion\"\"\"\n",
    "\n",
    "# Función para sumar dos números\n",
    "suma <- function(x, y) {\n",
    "  resultado <- x + y\n",
    "  return(resultado)\n",
    "}"
   ]
  },
  {
   "cell_type": "markdown",
   "metadata": {},
   "source": [
    "# ¿Qué es una clase en R?\n",
    "\n",
    "Una clase es sólo un plano o un boceto de estos objetos previamente mencionados. Representa el conjunto de propiedades o métodos que son comunes a todos los objetos de un tipo."
   ]
  },
  {
   "cell_type": "markdown",
   "metadata": {},
   "source": [
    "A diferencia de la mayoría de los demás lenguajes de programación, R tiene un sistema de tres clases. Estas son S3, S4 y clases de referencia."
   ]
  },
  {
   "cell_type": "markdown",
   "metadata": {},
   "source": [
    "# S3\n",
    "S3 es el sistema OOP más simple pero el más popular, este carece de definición y estructura formales. Un objeto de este tipo se puede crear simplemente agregándole un atributo."
   ]
  },
  {
   "cell_type": "code",
   "execution_count": null,
   "metadata": {
    "vscode": {
     "languageId": "r"
    }
   },
   "outputs": [],
   "source": [
    "# crear una lista con los componentes necesarios\n",
    "pelicula_lista <- list(nombre = \"Iron man\", actorPrincipal = \"Robert Downey Jr\")\n",
    "\n",
    "# asigna un nombre a tu clase\n",
    "class(pelicula_lista) <- \"pelicula\"\n",
    "\n",
    "pelicula_lista\n"
   ]
  },
  {
   "cell_type": "markdown",
   "metadata": {},
   "source": [
    "En los sistemas S3, los métodos no pertenecen a la clase, pertenecen a funciones genéricas. Significa que no podemos crear nuestros propios métodos aquí como lo hacemos en otros lenguajes de programación. Pero podemos definir qué hace un método genérico (por ejemplo, imprimir) cuando se aplica a nuestros objetos."
   ]
  },
  {
   "cell_type": "code",
   "execution_count": null,
   "metadata": {
    "vscode": {
     "languageId": "r"
    }
   },
   "outputs": [],
   "source": [
    "# metodo generico\n",
    "print(pelicula_lista)\n",
    "\n",
    "# ahora escribimos nuestro propio metodo\n",
    "print.pelicula <- function(obj) {\n",
    "  cat(\"El nombre de la pelicula es\", obj$nombre, \".\\n\")\n",
    "  cat(obj$actorPrincipal, \"es el actor principal.\\n\")\n",
    "}\n",
    "\n",
    "print.pelicula(pelicula_lista)\n"
   ]
  },
  {
   "cell_type": "markdown",
   "metadata": {},
   "source": [
    "# S4\n",
    "\n",
    "S4 es una ligera mejora con respecto a S3 ya que sus objetos tienen una definición y estructura adecuada."
   ]
  },
  {
   "cell_type": "code",
   "execution_count": null,
   "metadata": {
    "vscode": {
     "languageId": "r"
    }
   },
   "outputs": [],
   "source": [
    "library(methods)\n",
    "\n",
    "# definicion de la clase S4\n",
    "setClass(\"peliculas\", slots = list(nombre = \"character\", actorPrincipal = \"character\"))\n",
    "\n",
    "#crear un objeto usando new() pasando el nombre de la clase y los valores de los slots\n",
    "pelicula_lista <- new(\"movies\", nombre=\"Iron man\", actorPrincipal = \"Robert Downey Jr\")\n",
    "pelicula_lista\n"
   ]
  },
  {
   "cell_type": "markdown",
   "metadata": {},
   "source": [
    "Como se muestra en el ejemplo anterior, setClass() se usa para definir una clase y new() se usa para crear los objetos.\n",
    "\n",
    "El concepto de métodos en S4 es similar al de S3, es decir, pertenecen a funciones genéricas. El siguiente ejemplo muestra cómo crear un método:"
   ]
  },
  {
   "cell_type": "code",
   "execution_count": null,
   "metadata": {
    "vscode": {
     "languageId": "r"
    }
   },
   "outputs": [],
   "source": [
    "pelicula_lista\n",
    "\n",
    "# usando setMethod para establecer un metodo\n",
    "setMethod(\"mostrar\", \"peliculas\",\n",
    "  function(object) {\n",
    "    cat(\"El nombre de la pelicula es \", object@nombre, \".\\n\")\n",
    "    cat(object@actorPrincipal, \"es el actor principal.\\n\")\n",
    "  }\n",
    ")\n",
    "pelicula_lista"
   ]
  },
  {
   "cell_type": "markdown",
   "metadata": {},
   "source": [
    "# Clase de referencia\n",
    "La Clase de Referencia es una mejora con respecto a la Clase S4. Aquí los métodos pertenecen a las clases. Son muy similares a las clases orientadas a objetos de otros lenguajes.\n",
    "\n",
    "Definir una clase de referencia es similar a definir clases S4. Usamos setRefClass() en lugar de setClass() y \"fields\" en lugar de \"slots\"."
   ]
  },
  {
   "cell_type": "code",
   "execution_count": null,
   "metadata": {
    "vscode": {
     "languageId": "r"
    }
   },
   "outputs": [],
   "source": [
    "library(methods)\n",
    "\n",
    "# setRefClass retorna un generador\n",
    "peliculas <- setRefClass(\"peliculas\", fields =  = list(nombre = \"character\",\n",
    "                        actorPrincipal = \"character\", rating = \"numeric\"))\n",
    "\n",
    "# ahora podemos usar el generador para crear objetos\n",
    "pelicula_lista <- peliculas(name = \"Iron Man\",\n",
    "\t\t\t\t\tleadActor = \"Robert downey Jr\", rating = 7)\n",
    "pelicula_lista\n"
   ]
  }
 ],
 "metadata": {
  "language_info": {
   "name": "python"
  }
 },
 "nbformat": 4,
 "nbformat_minor": 2
}
