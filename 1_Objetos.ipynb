{
 "cells": [
  {
   "cell_type": "markdown",
   "metadata": {},
   "source": [
    "# ¿Qué es un objeto en R?\n",
    "\n",
    "En R, todo es un objeto. Desde un simple número hasta un complejo modelo estadístico, cada elemento con el que trabajas es considerado un objeto. Un objeto en R tiene:\n",
    "\n",
    "- Un nombre: Para identificarlo y referenciarlo.\n",
    "- Un tipo: Define la clase de datos que contiene (numérico, carácter, lógico, etc.).\n",
    "- Un valor: La información que almacena.\n",
    "- Atributos: Propiedades adicionales que describen el objeto."
   ]
  },
  {
   "cell_type": "markdown",
   "metadata": {},
   "source": [
    "## ¿Cómo funcionan los objetos en R?\n",
    "\n",
    "Los objetos en R funcionan como contenedores que almacenan información. Puedes realizar operaciones sobre estos objetos, como asignarles nuevos valores, combinarlos con otros objetos o aplicar funciones a ellos. R utiliza un sistema de asignación de valores a través del operador <- para crear nuevos objetos o modificar los existentes."
   ]
  },
  {
   "cell_type": "markdown",
   "metadata": {},
   "source": [
    "## ¿Cómo se crean los objetos en R?"
   ]
  },
  {
   "cell_type": "code",
   "execution_count": null,
   "metadata": {
    "vscode": {
     "languageId": "r"
    }
   },
   "outputs": [],
   "source": [
    "# Crear un objeto numérico\n",
    "mi_numero <- 42\n",
    "\n",
    "# Crear un objeto de texto (carácter)\n",
    "mi_texto <- \"Hola, mundo!\"\n",
    "\n",
    "# Crear un vector numérico\n",
    "mi_vector <- c(1, 2, 3, 4, 5)\n",
    "\n",
    "# Crear un data frame (tabla de datos)\n",
    "mi_dataframe <- data.frame(\n",
    "  columna1 = c(1, 2, 3),\n",
    "  columna2 = c(\"A\", \"B\", \"C\")\n",
    ")"
   ]
  },
  {
   "cell_type": "markdown",
   "metadata": {},
   "source": [
    "## Tipos de objetos comunes en R\n",
    "\n",
    "- Vectores: Secuencias de elementos del mismo tipo (numéricos, caracteres, lógicos).\n",
    "- Matrices: Arreglos bidimensionales de elementos del mismo tipo.\n",
    "- Data frames: Tablas de datos donde cada columna puede tener un tipo diferente.\n",
    "- Listas: Colecciones ordenadas de objetos de diferentes tipos.\n",
    "- Factores: Variables categóricas con niveles definidos.\n",
    "- Funciones: Bloques de código reutilizables que realizan tareas específicas."
   ]
  },
  {
   "cell_type": "code",
   "execution_count": null,
   "metadata": {
    "vscode": {
     "languageId": "r"
    }
   },
   "outputs": [],
   "source": [
    "\"\"\"Vectores\"\"\"\n",
    "\n",
    "# Vector numérico\n",
    "vector_numerico <- c(1, 2, 3, 4, 5)\n",
    "\n",
    "# Vector de caracteres\n",
    "vector_caracter <- c(\"rojo\", \"verde\", \"azul\")\n",
    "\n",
    "# Vector lógico\n",
    "vector_logico <- c(TRUE, FALSE, TRUE)\n",
    "\n",
    "\n",
    "\"\"\"Matrices\"\"\"\n",
    "\n",
    "# Matriz numérica\n",
    "matriz_numerica <- matrix(1:9, nrow = 3, ncol = 3)\n",
    "\n",
    "# Matriz de caracteres\n",
    "matriz_caracter <- matrix(c(\"a\", \"b\", \"c\", \"d\", \"e\", \"f\"), nrow = 2, ncol = 3)\n",
    "\n",
    "\"\"\"Data Frame\"\"\"\n",
    "\n",
    "\n",
    "df <- data.frame(\n",
    "  nombre = c(\"Ana\", \"Pedro\", \"Juan\"),\n",
    "  edad = c(25, 30, 28),\n",
    "  ciudad = c(\"Madrid\", \"Barcelona\", \"Valencia\")\n",
    ")\n",
    "\n",
    "\"\"\"Listas\"\"\"\n",
    "\n",
    "\n",
    "lista <- list(\n",
    "  vector_numerico,\n",
    "  matriz_caracter,\n",
    "  df\n",
    ")\n",
    "\n",
    "\"\"\"Factor\"\"\"\n",
    "\n",
    "factor_colores <- factor(c(\"rojo\", \"verde\", \"azul\", \"rojo\"))\n",
    "\n",
    "\"\"\"Funcion\"\"\"\n",
    "\n",
    "# Función para sumar dos números\n",
    "suma <- function(x, y) {\n",
    "  resultado <- x + y\n",
    "  return(resultado)\n",
    "}"
   ]
  }
 ],
 "metadata": {
  "language_info": {
   "name": "python"
  }
 },
 "nbformat": 4,
 "nbformat_minor": 2
}
