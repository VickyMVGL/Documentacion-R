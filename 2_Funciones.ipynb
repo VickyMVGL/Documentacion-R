{
 "cells": [
  {
   "cell_type": "markdown",
   "metadata": {},
   "source": [
    "# Que es una funcion??\n",
    "\n",
    "las funciones son bloques de código reutilizables que encapsulan una tarea específica. Son esenciales para organizar tu código, evitar repeticiones y hacer tu análisis más eficiente."
   ]
  },
  {
   "cell_type": "markdown",
   "metadata": {},
   "source": [
    "## Estructua basica de una funcion"
   ]
  },
  {
   "cell_type": "code",
   "execution_count": null,
   "metadata": {
    "vscode": {
     "languageId": "r"
    }
   },
   "outputs": [],
   "source": [
    "Fragmento de código\n",
    "\n",
    "mi_funcion <- function(argumento1, argumento2) {\n",
    "  # Código que realiza las operaciones\n",
    "  resultado <- argumento1 + argumento2\n",
    "  return(resultado)\n",
    "}"
   ]
  },
  {
   "cell_type": "markdown",
   "metadata": {},
   "source": [
    "- mi_funcion: Es el nombre que le das a tu función.\n",
    "- function(): Palabra clave que indica que estás definiendo una función.\n",
    "- argumento1, argumento2: Son los valores que la función recibirá como entrada.\n",
    "- { y }: Delimitan el cuerpo de la función, donde se escribe el código.\n",
    "- resultado: Es el valor que la función devuelve."
   ]
  },
  {
   "cell_type": "markdown",
   "metadata": {},
   "source": [
    "## Ejemplo"
   ]
  },
  {
   "cell_type": "code",
   "execution_count": null,
   "metadata": {
    "vscode": {
     "languageId": "r"
    }
   },
   "outputs": [],
   "source": [
    "# Función para calcular el área de un círculo\n",
    "area_circulo <- function(radio) {\n",
    "  area <- pi * radio^2\n",
    "  return(area)\n",
    "}\n",
    "\n",
    "# Usando la función\n",
    "radio_circulo <- 5\n",
    "resultado <- area_circulo(radio_circulo)\n",
    "print(resultado)"
   ]
  },
  {
   "cell_type": "markdown",
   "metadata": {},
   "source": [
    "## Características de las funciones:\n",
    "\n",
    "- Argumentos: Son los valores que se pasan a la función cuando se llama.\n",
    "- Valores por defecto: Puedes asignar valores por defecto a los argumentos.\n",
    "- Retorno: Una función puede devolver un valor o varios valores.\n",
    "- Efectos secundarios: Algunas funciones pueden modificar objetos externos a la función.\n",
    "- Funciones anónimas: Funciones sin nombre, útiles para operaciones cortas."
   ]
  },
  {
   "cell_type": "markdown",
   "metadata": {},
   "source": [
    "## Ejemplo de función con argumentos por defecto:"
   ]
  },
  {
   "cell_type": "code",
   "execution_count": null,
   "metadata": {
    "vscode": {
     "languageId": "r"
    }
   },
   "outputs": [],
   "source": [
    "Fragmento de código\n",
    "saludar <- function(nombre = \"mundo\") {\n",
    "  paste(\"Hola,\", nombre, \"!\")\n",
    "}\n",
    "\n",
    "# Usando la función con y sin argumento\n",
    "saludar()  # Imprime \"Hola, mundo!\"\n",
    "saludar(\"Ana\")  # Imprime \"Hola, Ana!\""
   ]
  },
  {
   "cell_type": "markdown",
   "metadata": {},
   "source": [
    "## Ejemplo de funcion anonima"
   ]
  },
  {
   "cell_type": "code",
   "execution_count": null,
   "metadata": {
    "vscode": {
     "languageId": "r"
    }
   },
   "outputs": [],
   "source": [
    "datos <- data.frame(\n",
    "  nombre = c(\"Ana\", \"Pedro\", \"Juan\"),\n",
    "  edad = c(25, 30, 28)\n",
    ")\n",
    "\n",
    "# Filtrar a las personas mayores de 25 años usando una función anónima\n",
    "personas_mayores <- datos[sapply(datos$edad, function(x) x > 25), ]\n",
    "print(personas_mayores)"
   ]
  }
 ],
 "metadata": {
  "language_info": {
   "name": "python"
  }
 },
 "nbformat": 4,
 "nbformat_minor": 2
}
